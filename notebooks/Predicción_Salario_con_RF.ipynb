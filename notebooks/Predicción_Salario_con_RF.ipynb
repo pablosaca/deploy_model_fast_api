{
 "cells": [
  {
   "cell_type": "markdown",
   "metadata": {
    "id": "qnKDw0T9hP3B"
   },
   "source": [
    "# Problema de clasificación usando Random Forest\n",
    "\n",
    "## Autores: Mauricio Beltrán, Pablo Sánchez, Alfonoso Carabantes y Juan Antonio Grande"
   ]
  },
  {
   "cell_type": "markdown",
   "metadata": {},
   "source": [
    "Se plantea determinar si una persona gana más de 50,000 dólares al año a partir de las siguientes variables:\n",
    "\n",
    "- age: Variable continua que representa la edad del individuo.\n",
    "- workclass: Variable categórica que representa el tipo de clase laboral a la que pertenece el individuo. Los posibles valores incluyen Privado, Trabajador autónomo (no incorporado), Trabajador autónomo (incorporado), Gobierno federal, Gobierno local, Gobierno estatal, Sin paga, Nunca trabajó.\n",
    "- fnlwgt: Variable continua que representa el peso final de la población, utilizado en el muestreo.\n",
    "- education: Variable categórica que representa el nivel más alto de educación alcanzado por el individuo. Los posibles valores incluyen varios niveles de educación desde Preescolar hasta Doctorado.\n",
    "- education-num: Variable continua que representa la codificación numérica de la educación (una representación alternativa de la característica 'education').\n",
    "- marital-status: Variable categórica que representa el estado civil del individuo. Los posibles valores incluyen Casado (cónyuge civil), Divorciado, Soltero, Separado, Viudo, Casado (cónyuge ausente), Casado con Fuerzas Armadas.\n",
    "- occupation: Variable categórica que representa la ocupación del individuo. Los posibles valores incluyen diversas categorías laborales como Soporte técnico, Ventas, Ejecutivo/Gerencial, Agricultura/Pesca, etc.\n",
    "- relationship: Variable categórica que representa la relación del individuo con el hogar. Los posibles valores incluyen Esposa, Hijo propio, Esposo, No pertenece a la familia, Pariente, Soltero.\n",
    "- race: Variable categórica que representa la raza del individuo. Los posibles valores incluyen Blanco, Asiático-isleño del Pacífico, Indígena americano-Eskimal, Negro, Otro.\n",
    "- sex: Variable categórica que representa el género del individuo. Los posibles valores son Mujer y Hombre.\n",
    "- capital-gain: Variable continua que representa las ganancias de capital del individuo.\n",
    "- capital-loss: Variable continua que representa las pérdidas de capital del individuo.\n",
    "- hours-per-week: Variable continua que representa el número de horas trabajadas por semana por el individuo.\n",
    "- native-country: Variable categórica que representa el país de origen del individuo. Los posibles valores incluyen varios países como Estados Unidos, India, Japón, México, etc.\n",
    "\n",
    "Se puede descargar los datos en: https://archive.ics.uci.edu/dataset/2/adult"
   ]
  },
  {
   "cell_type": "markdown",
   "metadata": {
    "id": "r4KJtGAeiToA"
   },
   "source": [
    "## Importar datos y librerías de trabajo"
   ]
  },
  {
   "cell_type": "code",
   "execution_count": 1,
   "metadata": {
    "id": "Zl9mU6ChiZrq"
   },
   "outputs": [],
   "source": [
    "import os\n",
    "import pandas as pd\n",
    "import numpy as np\n",
    "import matplotlib.pyplot as plt\n",
    "import seaborn as sns\n",
    "from sklearn.ensemble import RandomForestClassifier\n",
    "from sklearn.preprocessing import MinMaxScaler\n",
    "from sklearn.model_selection import train_test_split, RepeatedStratifiedKFold, GridSearchCV\n",
    "from sklearn.calibration import CalibratedClassifierCV\n",
    "from sklearn.metrics import f1_score\n",
    "from numpy.random import seed\n",
    "seed(123)"
   ]
  },
  {
   "cell_type": "markdown",
   "metadata": {},
   "source": [
    "Se leen los datos. Y un pequeño resumen de las variables numéricas:"
   ]
  },
  {
   "cell_type": "code",
   "execution_count": 2,
   "metadata": {
    "colab": {
     "base_uri": "https://localhost:8080/",
     "height": 321
    },
    "id": "yvzCwsXyichq",
    "outputId": "c26a2793-ab86-4508-c864-85c6d70997eb"
   },
   "outputs": [
    {
     "name": "stdout",
     "output_type": "stream",
     "text": [
      "<class 'pandas.core.frame.DataFrame'>\n",
      "RangeIndex: 48842 entries, 0 to 48841\n",
      "Data columns (total 13 columns):\n",
      " #   Column          Non-Null Count  Dtype \n",
      "---  ------          --------------  ----- \n",
      " 0   age             48842 non-null  int64 \n",
      " 1   workclass       48842 non-null  object\n",
      " 2   education       48842 non-null  object\n",
      " 3   marital-status  48842 non-null  object\n",
      " 4   occupation      48842 non-null  object\n",
      " 5   relationship    48842 non-null  object\n",
      " 6   race            48842 non-null  object\n",
      " 7   gender          48842 non-null  object\n",
      " 8   capital-gain    48842 non-null  int64 \n",
      " 9   capital-loss    48842 non-null  int64 \n",
      " 10  hours-per-week  48842 non-null  int64 \n",
      " 11  native-country  48842 non-null  object\n",
      " 12  income          48842 non-null  object\n",
      "dtypes: int64(4), object(9)\n",
      "memory usage: 4.8+ MB\n"
     ]
    }
   ],
   "source": [
    "datos=pd.read_csv('../data/adult_data.csv').drop(columns=[\"x\"])\n",
    "\n",
    "datos = datos.drop(columns=[\"fnlwgt\", \"educational-num\"])\n",
    "\n",
    "datos.info()"
   ]
  },
  {
   "cell_type": "code",
   "execution_count": 3,
   "metadata": {},
   "outputs": [
    {
     "name": "stdout",
     "output_type": "stream",
     "text": [
      "Tamaño: (48842, 13)\n"
     ]
    },
    {
     "data": {
      "text/html": [
       "<div>\n",
       "<style scoped>\n",
       "    .dataframe tbody tr th:only-of-type {\n",
       "        vertical-align: middle;\n",
       "    }\n",
       "\n",
       "    .dataframe tbody tr th {\n",
       "        vertical-align: top;\n",
       "    }\n",
       "\n",
       "    .dataframe thead th {\n",
       "        text-align: right;\n",
       "    }\n",
       "</style>\n",
       "<table border=\"1\" class=\"dataframe\">\n",
       "  <thead>\n",
       "    <tr style=\"text-align: right;\">\n",
       "      <th></th>\n",
       "      <th>age</th>\n",
       "      <th>capital-gain</th>\n",
       "      <th>capital-loss</th>\n",
       "      <th>hours-per-week</th>\n",
       "    </tr>\n",
       "  </thead>\n",
       "  <tbody>\n",
       "    <tr>\n",
       "      <th>count</th>\n",
       "      <td>48842.000000</td>\n",
       "      <td>48842.000000</td>\n",
       "      <td>48842.000000</td>\n",
       "      <td>48842.000000</td>\n",
       "    </tr>\n",
       "    <tr>\n",
       "      <th>mean</th>\n",
       "      <td>38.643585</td>\n",
       "      <td>1079.067626</td>\n",
       "      <td>87.502314</td>\n",
       "      <td>40.422382</td>\n",
       "    </tr>\n",
       "    <tr>\n",
       "      <th>std</th>\n",
       "      <td>13.710510</td>\n",
       "      <td>7452.019058</td>\n",
       "      <td>403.004552</td>\n",
       "      <td>12.391444</td>\n",
       "    </tr>\n",
       "    <tr>\n",
       "      <th>min</th>\n",
       "      <td>17.000000</td>\n",
       "      <td>0.000000</td>\n",
       "      <td>0.000000</td>\n",
       "      <td>1.000000</td>\n",
       "    </tr>\n",
       "    <tr>\n",
       "      <th>25%</th>\n",
       "      <td>28.000000</td>\n",
       "      <td>0.000000</td>\n",
       "      <td>0.000000</td>\n",
       "      <td>40.000000</td>\n",
       "    </tr>\n",
       "    <tr>\n",
       "      <th>50%</th>\n",
       "      <td>37.000000</td>\n",
       "      <td>0.000000</td>\n",
       "      <td>0.000000</td>\n",
       "      <td>40.000000</td>\n",
       "    </tr>\n",
       "    <tr>\n",
       "      <th>75%</th>\n",
       "      <td>48.000000</td>\n",
       "      <td>0.000000</td>\n",
       "      <td>0.000000</td>\n",
       "      <td>45.000000</td>\n",
       "    </tr>\n",
       "    <tr>\n",
       "      <th>max</th>\n",
       "      <td>90.000000</td>\n",
       "      <td>99999.000000</td>\n",
       "      <td>4356.000000</td>\n",
       "      <td>99.000000</td>\n",
       "    </tr>\n",
       "  </tbody>\n",
       "</table>\n",
       "</div>"
      ],
      "text/plain": [
       "                age  capital-gain  capital-loss  hours-per-week\n",
       "count  48842.000000  48842.000000  48842.000000    48842.000000\n",
       "mean      38.643585   1079.067626     87.502314       40.422382\n",
       "std       13.710510   7452.019058    403.004552       12.391444\n",
       "min       17.000000      0.000000      0.000000        1.000000\n",
       "25%       28.000000      0.000000      0.000000       40.000000\n",
       "50%       37.000000      0.000000      0.000000       40.000000\n",
       "75%       48.000000      0.000000      0.000000       45.000000\n",
       "max       90.000000  99999.000000   4356.000000       99.000000"
      ]
     },
     "execution_count": 3,
     "metadata": {},
     "output_type": "execute_result"
    }
   ],
   "source": [
    "# Breve explicación del dataset\n",
    "print('Tamaño:', datos.shape)  # 284.807 registros y 31 variables\n",
    "\n",
    "datos.describe()  #summary de las variables (30 variables explicativas y target: Class)"
   ]
  },
  {
   "cell_type": "markdown",
   "metadata": {},
   "source": [
    "## Agrupación de niveles de las variables categóricas\n",
    "\n",
    "`workclass`"
   ]
  },
  {
   "cell_type": "code",
   "execution_count": 4,
   "metadata": {},
   "outputs": [],
   "source": [
    "cond = [datos[\"workclass\"].isin([\"Self-emp-not-inc\", \"Self-emp-inc\"]),\n",
    "        datos[\"workclass\"].isin([\"State-gov\", \"Local-gov\", \"Federal-gov\"]),\n",
    "        datos[\"workclass\"].isin([\"?\", \"Without-pay\", \"Never-worked\"])]\n",
    "values = [\"Self\", \"State\", \"Other\"]\n",
    "\n",
    "datos[\"workclass\"] = np.select(cond, values, default=datos[\"workclass\"])\n",
    "datos[\"workclass\"] = datos[\"workclass\"].astype(\"category\")"
   ]
  },
  {
   "cell_type": "markdown",
   "metadata": {},
   "source": [
    "`education`"
   ]
  },
  {
   "cell_type": "code",
   "execution_count": 5,
   "metadata": {},
   "outputs": [],
   "source": [
    "cond = [datos[\"education\"].isin([\"Assoc-acdm\", \"Assoc-voc\"]),\n",
    "        datos[\"education\"].isin([\"Preschool\", \"HS-grad\"]),\n",
    "        datos[\"education\"].isin([\"Bachelors\", \"Masters\", \"Doctorate\", \"Some-college\"]),\n",
    "        datos[\"education\"] == \"Prof-school\"]\n",
    "values = [\"Associate\", \"School\", \"BCMD\", \"Prof-school\"]\n",
    "\n",
    "datos[\"education\"] = np.select(cond, values, default=\"Xth\")\n",
    "datos[\"education\"] = datos[\"education\"].astype(\"category\")"
   ]
  },
  {
   "cell_type": "markdown",
   "metadata": {},
   "source": [
    "`marital-status`"
   ]
  },
  {
   "cell_type": "code",
   "execution_count": 6,
   "metadata": {},
   "outputs": [],
   "source": [
    "cond = [datos[\"marital-status\"].isin([\"Separated\", \"Divorced\"]),\n",
    "        datos[\"marital-status\"].isin([\"Married-civ-spouse\", \"Married-spouse-absent\", \"Married-AF-spouse\"]),\n",
    "        datos[\"marital-status\"] == \"Widowed\"]\n",
    "values = [\"Divorced/Separated\", \"Married\", \"Widowed\"]\n",
    "\n",
    "datos[\"marital-status\"] = np.select(cond, values, default=\"Never-married\")\n",
    "datos[\"marital-status\"] = datos[\"marital-status\"].astype(\"category\")"
   ]
  },
  {
   "cell_type": "markdown",
   "metadata": {},
   "source": [
    "`occupation`"
   ]
  },
  {
   "cell_type": "code",
   "execution_count": 7,
   "metadata": {},
   "outputs": [],
   "source": [
    "values = [\"Protective-serv\", \"Craft-repair\", \"Exec-managerial\", \"Adm-clerical\", \"Sales\", \"Machine-op-inspct\"]\n",
    "datos[\"occupation\"] = np.where(datos[\"occupation\"].isin(values), datos[\"occupation\"], \"Other\")\n",
    "datos[\"occupation\"] = datos[\"occupation\"].astype(\"category\")"
   ]
  },
  {
   "cell_type": "markdown",
   "metadata": {
    "id": "alllXDaCie25"
   },
   "source": [
    "## Análisis descriptivo y preprocesado de datos"
   ]
  },
  {
   "cell_type": "markdown",
   "metadata": {},
   "source": [
    "`Distribución del Target`"
   ]
  },
  {
   "cell_type": "code",
   "execution_count": 10,
   "metadata": {
    "colab": {
     "base_uri": "https://localhost:8080/",
     "height": 597
    },
    "id": "RKc7bA4Nifqs",
    "outputId": "1d47f926-51bb-471b-b464-519984bccae6"
   },
   "outputs": [
    {
     "data": {
      "image/png": "[encoded data removed]",
      "text/plain": [
       "<Figure size 1200x400 with 1 Axes>"
      ]
     },
     "metadata": {},
     "output_type": "display_data"
    }
   ],
   "source": [
    "plt.figure(figsize=(12, 4)) # tamaño del gráfico\n",
    "sns.countplot(x='income', data=datos, palette='Set2')\n",
    "plt.title('Grupos de empleados según el salario', fontsize=16)\n",
    "plt.show()\n",
    "\n",
    "datos[\"income\"].value_counts(normalize=True)\n",
    "\n",
    "datos[\"income\"] = np.where(datos[\"income\"] == \">50K\", 1, 0)"
   ]
  },
  {
   "cell_type": "markdown",
   "metadata": {},
   "source": [
    "`Correlación variables numéricas`"
   ]
  },
  {
   "cell_type": "code",
   "execution_count": 11,
   "metadata": {},
   "outputs": [
    {
     "data": {
      "image/png": "[encoded data removed]",
      "text/plain": [
       "<Figure size 1200x400 with 2 Axes>"
      ]
     },
     "metadata": {},
     "output_type": "display_data"
    }
   ],
   "source": [
    "# nombre de las columnas de interés\n",
    "columnas_corr = list(datos.select_dtypes(exclude=['category', 'object']).columns)\n",
    "corr_list = columnas_corr.copy()\n",
    "corr_list.remove(\"income\")\n",
    "\n",
    "# Análisis de correlación de las variables explicativas\n",
    "matriz_cor=datos[corr_list].corr('pearson')  #correlación de pearson\n",
    "\n",
    "# como cor(x,x)=1 y cor(x,y)=cor(y,x) se puede disponer solo de la diagonal inferior.\n",
    "# La siguiente función elimina la parte superior de la matriz de correlaciones\n",
    "mask = np.zeros(matriz_cor.shape, dtype=bool)\n",
    "mask[np.triu_indices(len(mask))] = True\n",
    "\n",
    "plt.figure(figsize=(12, 4)) # tamaño del gráfico\n",
    "\n",
    "sns.heatmap(matriz_cor, annot = True, vmin = -1, vmax = 1, cmap = 'Set2', mask=mask)\n",
    "# cmap para elegir la gama de colores y vmin y vmax identificar todo el espectro de valores de la correlación de pearson [-1,1]\n",
    "plt.title('Correlación de Pearson - Datos de entrada', fontsize=12)\n",
    "plt.show()"
   ]
  },
  {
   "cell_type": "markdown",
   "metadata": {},
   "source": [
    "Vemos que no hay correlación lineal entre las variables explicativas"
   ]
  },
  {
   "cell_type": "markdown",
   "metadata": {},
   "source": [
    "## Definición de la muestra: entrenamiento y validación"
   ]
  },
  {
   "cell_type": "code",
   "execution_count": 12,
   "metadata": {
    "id": "4LHntouEin0I"
   },
   "outputs": [
    {
     "name": "stdout",
     "output_type": "stream",
     "text": [
      "Tamaño train: (36631, 12)\n",
      "Tamaño validación: (12211, 12)\n"
     ]
    }
   ],
   "source": [
    "# Partición de la muestra\n",
    "TEST_SIZE = 0.25 #muestra para el test\n",
    "RANDOM_SEED = 123 \n",
    "X_train, X_test, y_train, y_test = train_test_split(datos.drop(columns=[\"income\"]),\n",
    "                                                    datos[\"income\"],\n",
    "                                                    test_size=TEST_SIZE,\n",
    "                                                    random_state=RANDOM_SEED,\n",
    "                                                    stratify=datos[\"income\"]) # división estratificada\n",
    "\n",
    "print(f\"Tamaño train: {X_train.shape}\")\n",
    "print(f\"Tamaño validación: {X_test.shape}\")"
   ]
  },
  {
   "cell_type": "markdown",
   "metadata": {},
   "source": [
    "Se convierten a variables dummy las no numéricas"
   ]
  },
  {
   "cell_type": "code",
   "execution_count": 13,
   "metadata": {},
   "outputs": [],
   "source": [
    "category_columns = list(datos.select_dtypes(include=['category', 'object']).columns)\n",
    "\n",
    "X_train_dummy = pd.get_dummies(X_train[category_columns], drop_first=True, dtype=float)\n",
    "X_test_dummy = pd.get_dummies(X_test[category_columns], drop_first=True, dtype=float)"
   ]
  },
  {
   "cell_type": "markdown",
   "metadata": {},
   "source": [
    "Obtenemos las variables numéricas y concatenamos:"
   ]
  },
  {
   "cell_type": "code",
   "execution_count": 14,
   "metadata": {},
   "outputs": [],
   "source": [
    "X_train_num = X_train[corr_list]\n",
    "X_test_num = X_test[corr_list]\n",
    "\n",
    "X_train = pd.concat([X_train_num, X_train_dummy], axis=1) # se añaden a nivel registro\n",
    "X_test = pd.concat([X_test_num, X_test_dummy], axis=1)"
   ]
  },
  {
   "cell_type": "markdown",
   "metadata": {},
   "source": [
    "Al trabajar con variables categóricas puede ser que algún nivel de los datos de entrenamiento no esté en nuestros datos de validación."
   ]
  },
  {
   "cell_type": "code",
   "execution_count": 15,
   "metadata": {},
   "outputs": [
    {
     "data": {
      "text/plain": [
       "False"
      ]
     },
     "execution_count": 15,
     "metadata": {},
     "output_type": "execute_result"
    }
   ],
   "source": [
    "True if len(X_train.columns) == len(X_test.columns) else False"
   ]
  },
  {
   "cell_type": "markdown",
   "metadata": {},
   "source": [
    "Puede verse que existe tal discrepancia. Se analizan las variables que no existen para rellenarlas a cero."
   ]
  },
  {
   "cell_type": "code",
   "execution_count": 16,
   "metadata": {},
   "outputs": [
    {
     "data": {
      "text/plain": [
       "['native-country_Holand-Netherlands']"
      ]
     },
     "execution_count": 16,
     "metadata": {},
     "output_type": "execute_result"
    }
   ],
   "source": [
    "add_col_test = [col for col in X_train.columns if col not in X_test.columns]\n",
    "add_col_test"
   ]
  },
  {
   "cell_type": "code",
   "execution_count": 17,
   "metadata": {},
   "outputs": [],
   "source": [
    "for col in add_col_test:\n",
    "    X_test[col] = 0 # se incluye con valor a cero\n",
    "\n",
    "X_test = X_test[X_train.columns] # la muestra de test con el mismo orden que la muestra de entrenamiento"
   ]
  },
  {
   "cell_type": "code",
   "execution_count": 18,
   "metadata": {},
   "outputs": [
    {
     "data": {
      "text/plain": [
       "True"
      ]
     },
     "execution_count": 18,
     "metadata": {},
     "output_type": "execute_result"
    }
   ],
   "source": [
    "True if len(X_train.columns) == len(X_test.columns) else False"
   ]
  },
  {
   "cell_type": "code",
   "execution_count": 19,
   "metadata": {
    "tags": []
   },
   "outputs": [
    {
     "data": {
      "text/plain": [
       "99"
      ]
     },
     "execution_count": 19,
     "metadata": {},
     "output_type": "execute_result"
    }
   ],
   "source": [
    "datos[\"hours-per-week\"].max()"
   ]
  },
  {
   "cell_type": "markdown",
   "metadata": {},
   "source": [
    "Una vez tenemos los datos de entrada adecuadamente formulados, se normalizan los datos:"
   ]
  },
  {
   "cell_type": "code",
   "execution_count": 20,
   "metadata": {
    "id": "XO-uLNE_iqIA"
   },
   "outputs": [],
   "source": [
    "# Normalización muestra entrenamiento y test\n",
    "\n",
    "# conversión a vector numpy la serie de pandas\n",
    "y_train=np.array(y_train)\n",
    "y_test=np.array(y_test)\n",
    "\n",
    "# Los datos son normalizados (min=0, máx=1) para un buen entendimiento de la red neuronal\n",
    "norm = MinMaxScaler()\n",
    "X_train = norm.fit_transform(X_train)\n",
    "X_test = norm.transform(X_test)"
   ]
  },
  {
   "cell_type": "code",
   "execution_count": 21,
   "metadata": {
    "colab": {
     "base_uri": "https://localhost:8080/",
     "height": 50
    },
    "id": "L2kyopSdrslD",
    "outputId": "67fa01c1-7bc0-4ffe-96b6-e30387144b40"
   },
   "outputs": [
    {
     "name": "stdout",
     "output_type": "stream",
     "text": [
      "Tamaño datos (train): (36631, 71)\n",
      "Tamaño datos (test): (12211, 71)\n"
     ]
    }
   ],
   "source": [
    "# detalle del tamaño de los datos de entrada\n",
    "print('Tamaño datos (train):', X_train.shape)\n",
    "print('Tamaño datos (test):', X_test.shape)"
   ]
  },
  {
   "cell_type": "markdown",
   "metadata": {},
   "source": [
    "El entrenamiento es realizado usando la técnica de Cross-Validation:\n",
    "- n_splits: 10\n",
    "- n_repeats: 2"
   ]
  },
  {
   "cell_type": "code",
   "execution_count": 22,
   "metadata": {
    "tags": []
   },
   "outputs": [],
   "source": [
    "N_SPLITS = 10\n",
    "N_REPEATS = 2\n",
    "\n",
    "# cross_validation\n",
    "cv = RepeatedStratifiedKFold(n_splits=N_SPLITS, n_repeats=N_REPEATS, random_state=RANDOM_SEED)"
   ]
  },
  {
   "cell_type": "markdown",
   "metadata": {},
   "source": [
    "## Modelización usando un Random Forest"
   ]
  },
  {
   "cell_type": "markdown",
   "metadata": {
    "tags": []
   },
   "source": [
    "Se defininen los parámetros e hiperparámetros del modelo:\n",
    "- Criterion: gini\n",
    "- min_samples_split: 5\n",
    "- n_stimators: 6, 8, 10 y 12\n",
    "- max_depth: 2 y 4"
   ]
  },
  {
   "cell_type": "code",
   "execution_count": 23,
   "metadata": {
    "tags": []
   },
   "outputs": [],
   "source": [
    "CRITERION = \"gini\"\n",
    "MIN_SAMPLES_SPLIT = 5\n",
    "N_JOBS = -1 \n",
    "HYPERPARAMETER_DICT = {'n_estimators':[6, 8, 10, 12], 'max_depth': [2, 4]}"
   ]
  },
  {
   "cell_type": "code",
   "execution_count": 24,
   "metadata": {
    "tags": []
   },
   "outputs": [],
   "source": [
    "# métrica de evaluación: accuracy\n",
    "METRIC = \"accuracy\"\n",
    "\n",
    "\n",
    "rf = RandomForestClassifier(criterion=CRITERION,\n",
    "                            min_samples_split=MIN_SAMPLES_SPLIT,\n",
    "                            random_state=RANDOM_SEED) #modelo base\n",
    "\n",
    "# definición de los hiperparámetros como grid\n",
    "grid = [HYPERPARAMETER_DICT]\n",
    "\n",
    "#definición del modelo con hiperparámetros\n",
    "gs_rf = GridSearchCV(estimator=rf,\n",
    "                     param_grid=grid,\n",
    "                     scoring=METRIC,\n",
    "                     cv=cv,\n",
    "                     n_jobs=N_JOBS)\n",
    "\n",
    "#entrenamiento del modelo con hiperparámetros\n",
    "gs_rf = gs_rf.fit(X_train, y_train)"
   ]
  },
  {
   "cell_type": "markdown",
   "metadata": {},
   "source": [
    "Una vez hecho el entrenamiento por cross validation se puede conocer la combinación de hiperparámetros que proporcionan el mejor modelo"
   ]
  },
  {
   "cell_type": "code",
   "execution_count": 25,
   "metadata": {
    "tags": []
   },
   "outputs": [
    {
     "data": {
      "text/plain": [
       "{'max_depth': 4, 'n_estimators': 12}"
      ]
     },
     "execution_count": 25,
     "metadata": {},
     "output_type": "execute_result"
    }
   ],
   "source": [
    "gs_rf.best_params_"
   ]
  },
  {
   "cell_type": "markdown",
   "metadata": {},
   "source": [
    "También se pueden obtener los resultados del entrenamiento de cada uno de los modelos - media todos los split o de cada split."
   ]
  },
  {
   "cell_type": "code",
   "execution_count": 26,
   "metadata": {
    "tags": []
   },
   "outputs": [
    {
     "name": "stdout",
     "output_type": "stream",
     "text": [
      "Hyperparams: {'max_depth': 2, 'n_estimators': 6}: 0.760735445151384\n",
      "Hyperparams: {'max_depth': 2, 'n_estimators': 8}: 0.7607490951650341\n",
      "Hyperparams: {'max_depth': 2, 'n_estimators': 10}: 0.7607900414805437\n",
      "Hyperparams: {'max_depth': 2, 'n_estimators': 12}: 0.7659496311515962\n",
      "Hyperparams: {'max_depth': 4, 'n_estimators': 6}: 0.8010837790450236\n",
      "Hyperparams: {'max_depth': 4, 'n_estimators': 8}: 0.8012066403441949\n",
      "Hyperparams: {'max_depth': 4, 'n_estimators': 10}: 0.8092190269864943\n",
      "Hyperparams: {'max_depth': 4, 'n_estimators': 12}: 0.8159073772065039\n"
     ]
    }
   ],
   "source": [
    "for params, mean_metric in zip(gs_rf.cv_results_[\"params\"], gs_rf.cv_results_[\"mean_test_score\"]):\n",
    "    print(f\"Hyperparams: {params}: {mean_metric}\")\n",
    "    \n",
    "# El objeto devuelto `gf_rf.cv_results_` es un diccionario que puede convertirse a dataframe -> pd.DataFrame(gs_rf.cv_results_)"
   ]
  },
  {
   "cell_type": "markdown",
   "metadata": {},
   "source": [
    "Se obtiene el mejor modelo"
   ]
  },
  {
   "cell_type": "code",
   "execution_count": 27,
   "metadata": {
    "tags": []
   },
   "outputs": [],
   "source": [
    "model = gs_rf.best_estimator_"
   ]
  },
  {
   "cell_type": "markdown",
   "metadata": {},
   "source": [
    "Se analiza la bondad de ajuste con la muestra de entrenamiento (completa) y los datos de test. "
   ]
  },
  {
   "cell_type": "code",
   "execution_count": 28,
   "metadata": {
    "tags": []
   },
   "outputs": [
    {
     "data": {
      "text/html": [
       "<style>#sk-container-id-1 {color: black;background-color: white;}#sk-container-id-1 pre{padding: 0;}#sk-container-id-1 div.sk-toggleable {background-color: white;}#sk-container-id-1 label.sk-toggleable__label {cursor: pointer;display: block;width: 100%;margin-bottom: 0;padding: 0.3em;box-sizing: border-box;text-align: center;}#sk-container-id-1 label.sk-toggleable__label-arrow:before {content: \"▸\";float: left;margin-right: 0.25em;color: #696969;}#sk-container-id-1 label.sk-toggleable__label-arrow:hover:before {color: black;}#sk-container-id-1 div.sk-estimator:hover label.sk-toggleable__label-arrow:before {color: black;}#sk-container-id-1 div.sk-toggleable__content {max-height: 0;max-width: 0;overflow: hidden;text-align: left;background-color: #f0f8ff;}#sk-container-id-1 div.sk-toggleable__content pre {margin: 0.2em;color: black;border-radius: 0.25em;background-color: #f0f8ff;}#sk-container-id-1 input.sk-toggleable__control:checked~div.sk-toggleable__content {max-height: 200px;max-width: 100%;overflow: auto;}#sk-container-id-1 input.sk-toggleable__control:checked~label.sk-toggleable__label-arrow:before {content: \"▾\";}#sk-container-id-1 div.sk-estimator input.sk-toggleable__control:checked~label.sk-toggleable__label {background-color: #d4ebff;}#sk-container-id-1 div.sk-label input.sk-toggleable__control:checked~label.sk-toggleable__label {background-color: #d4ebff;}#sk-container-id-1 input.sk-hidden--visually {border: 0;clip: rect(1px 1px 1px 1px);clip: rect(1px, 1px, 1px, 1px);height: 1px;margin: -1px;overflow: hidden;padding: 0;position: absolute;width: 1px;}#sk-container-id-1 div.sk-estimator {font-family: monospace;background-color: #f0f8ff;border: 1px dotted black;border-radius: 0.25em;box-sizing: border-box;margin-bottom: 0.5em;}#sk-container-id-1 div.sk-estimator:hover {background-color: #d4ebff;}#sk-container-id-1 div.sk-parallel-item::after {content: \"\";width: 100%;border-bottom: 1px solid gray;flex-grow: 1;}#sk-container-id-1 div.sk-label:hover label.sk-toggleable__label {background-color: #d4ebff;}#sk-container-id-1 div.sk-serial::before {content: \"\";position: absolute;border-left: 1px solid gray;box-sizing: border-box;top: 0;bottom: 0;left: 50%;z-index: 0;}#sk-container-id-1 div.sk-serial {display: flex;flex-direction: column;align-items: center;background-color: white;padding-right: 0.2em;padding-left: 0.2em;position: relative;}#sk-container-id-1 div.sk-item {position: relative;z-index: 1;}#sk-container-id-1 div.sk-parallel {display: flex;align-items: stretch;justify-content: center;background-color: white;position: relative;}#sk-container-id-1 div.sk-item::before, #sk-container-id-1 div.sk-parallel-item::before {content: \"\";position: absolute;border-left: 1px solid gray;box-sizing: border-box;top: 0;bottom: 0;left: 50%;z-index: -1;}#sk-container-id-1 div.sk-parallel-item {display: flex;flex-direction: column;z-index: 1;position: relative;background-color: white;}#sk-container-id-1 div.sk-parallel-item:first-child::after {align-self: flex-end;width: 50%;}#sk-container-id-1 div.sk-parallel-item:last-child::after {align-self: flex-start;width: 50%;}#sk-container-id-1 div.sk-parallel-item:only-child::after {width: 0;}#sk-container-id-1 div.sk-dashed-wrapped {border: 1px dashed gray;margin: 0 0.4em 0.5em 0.4em;box-sizing: border-box;padding-bottom: 0.4em;background-color: white;}#sk-container-id-1 div.sk-label label {font-family: monospace;font-weight: bold;display: inline-block;line-height: 1.2em;}#sk-container-id-1 div.sk-label-container {text-align: center;}#sk-container-id-1 div.sk-container {/* jupyter's `normalize.less` sets `[hidden] { display: none; }` but bootstrap.min.css set `[hidden] { display: none !important; }` so we also need the `!important` here to be able to override the default hidden behavior on the sphinx rendered scikit-learn.org. See: https://github.com/scikit-learn/scikit-learn/issues/21755 */display: inline-block !important;position: relative;}#sk-container-id-1 div.sk-text-repr-fallback {display: none;}</style><div id=\"sk-container-id-1\" class=\"sk-top-container\"><div class=\"sk-text-repr-fallback\"><pre>RandomForestClassifier(max_depth=4, min_samples_split=5, n_estimators=12,\n",
       "                       random_state=123)</pre><b>In a Jupyter environment, please rerun this cell to show the HTML representation or trust the notebook. <br />On GitHub, the HTML representation is unable to render, please try loading this page with nbviewer.org.</b></div><div class=\"sk-container\" hidden><div class=\"sk-item\"><div class=\"sk-estimator sk-toggleable\"><input class=\"sk-toggleable__control sk-hidden--visually\" id=\"sk-estimator-id-1\" type=\"checkbox\" checked><label for=\"sk-estimator-id-1\" class=\"sk-toggleable__label sk-toggleable__label-arrow\">RandomForestClassifier</label><div class=\"sk-toggleable__content\"><pre>RandomForestClassifier(max_depth=4, min_samples_split=5, n_estimators=12,\n",
       "                       random_state=123)</pre></div></div></div></div></div>"
      ],
      "text/plain": [
       "RandomForestClassifier(max_depth=4, min_samples_split=5, n_estimators=12,\n",
       "                       random_state=123)"
      ]
     },
     "execution_count": 28,
     "metadata": {},
     "output_type": "execute_result"
    }
   ],
   "source": [
    "model.fit(X_train, y_train)"
   ]
  },
  {
   "cell_type": "markdown",
   "metadata": {},
   "source": [
    "Las probabilidades que proporciona este tipo de algoritmo no están calibradas por lo que se realiza una calibración a posteriori"
   ]
  },
  {
   "cell_type": "code",
   "execution_count": 29,
   "metadata": {
    "tags": []
   },
   "outputs": [
    {
     "data": {
      "text/html": [
       "<style>#sk-container-id-2 {color: black;background-color: white;}#sk-container-id-2 pre{padding: 0;}#sk-container-id-2 div.sk-toggleable {background-color: white;}#sk-container-id-2 label.sk-toggleable__label {cursor: pointer;display: block;width: 100%;margin-bottom: 0;padding: 0.3em;box-sizing: border-box;text-align: center;}#sk-container-id-2 label.sk-toggleable__label-arrow:before {content: \"▸\";float: left;margin-right: 0.25em;color: #696969;}#sk-container-id-2 label.sk-toggleable__label-arrow:hover:before {color: black;}#sk-container-id-2 div.sk-estimator:hover label.sk-toggleable__label-arrow:before {color: black;}#sk-container-id-2 div.sk-toggleable__content {max-height: 0;max-width: 0;overflow: hidden;text-align: left;background-color: #f0f8ff;}#sk-container-id-2 div.sk-toggleable__content pre {margin: 0.2em;color: black;border-radius: 0.25em;background-color: #f0f8ff;}#sk-container-id-2 input.sk-toggleable__control:checked~div.sk-toggleable__content {max-height: 200px;max-width: 100%;overflow: auto;}#sk-container-id-2 input.sk-toggleable__control:checked~label.sk-toggleable__label-arrow:before {content: \"▾\";}#sk-container-id-2 div.sk-estimator input.sk-toggleable__control:checked~label.sk-toggleable__label {background-color: #d4ebff;}#sk-container-id-2 div.sk-label input.sk-toggleable__control:checked~label.sk-toggleable__label {background-color: #d4ebff;}#sk-container-id-2 input.sk-hidden--visually {border: 0;clip: rect(1px 1px 1px 1px);clip: rect(1px, 1px, 1px, 1px);height: 1px;margin: -1px;overflow: hidden;padding: 0;position: absolute;width: 1px;}#sk-container-id-2 div.sk-estimator {font-family: monospace;background-color: #f0f8ff;border: 1px dotted black;border-radius: 0.25em;box-sizing: border-box;margin-bottom: 0.5em;}#sk-container-id-2 div.sk-estimator:hover {background-color: #d4ebff;}#sk-container-id-2 div.sk-parallel-item::after {content: \"\";width: 100%;border-bottom: 1px solid gray;flex-grow: 1;}#sk-container-id-2 div.sk-label:hover label.sk-toggleable__label {background-color: #d4ebff;}#sk-container-id-2 div.sk-serial::before {content: \"\";position: absolute;border-left: 1px solid gray;box-sizing: border-box;top: 0;bottom: 0;left: 50%;z-index: 0;}#sk-container-id-2 div.sk-serial {display: flex;flex-direction: column;align-items: center;background-color: white;padding-right: 0.2em;padding-left: 0.2em;position: relative;}#sk-container-id-2 div.sk-item {position: relative;z-index: 1;}#sk-container-id-2 div.sk-parallel {display: flex;align-items: stretch;justify-content: center;background-color: white;position: relative;}#sk-container-id-2 div.sk-item::before, #sk-container-id-2 div.sk-parallel-item::before {content: \"\";position: absolute;border-left: 1px solid gray;box-sizing: border-box;top: 0;bottom: 0;left: 50%;z-index: -1;}#sk-container-id-2 div.sk-parallel-item {display: flex;flex-direction: column;z-index: 1;position: relative;background-color: white;}#sk-container-id-2 div.sk-parallel-item:first-child::after {align-self: flex-end;width: 50%;}#sk-container-id-2 div.sk-parallel-item:last-child::after {align-self: flex-start;width: 50%;}#sk-container-id-2 div.sk-parallel-item:only-child::after {width: 0;}#sk-container-id-2 div.sk-dashed-wrapped {border: 1px dashed gray;margin: 0 0.4em 0.5em 0.4em;box-sizing: border-box;padding-bottom: 0.4em;background-color: white;}#sk-container-id-2 div.sk-label label {font-family: monospace;font-weight: bold;display: inline-block;line-height: 1.2em;}#sk-container-id-2 div.sk-label-container {text-align: center;}#sk-container-id-2 div.sk-container {/* jupyter's `normalize.less` sets `[hidden] { display: none; }` but bootstrap.min.css set `[hidden] { display: none !important; }` so we also need the `!important` here to be able to override the default hidden behavior on the sphinx rendered scikit-learn.org. See: https://github.com/scikit-learn/scikit-learn/issues/21755 */display: inline-block !important;position: relative;}#sk-container-id-2 div.sk-text-repr-fallback {display: none;}</style><div id=\"sk-container-id-2\" class=\"sk-top-container\"><div class=\"sk-text-repr-fallback\"><pre>CalibratedClassifierCV(cv=RepeatedStratifiedKFold(n_repeats=2, n_splits=10, random_state=123),\n",
       "                       estimator=RandomForestClassifier(max_depth=4,\n",
       "                                                        min_samples_split=5,\n",
       "                                                        n_estimators=12,\n",
       "                                                        random_state=123))</pre><b>In a Jupyter environment, please rerun this cell to show the HTML representation or trust the notebook. <br />On GitHub, the HTML representation is unable to render, please try loading this page with nbviewer.org.</b></div><div class=\"sk-container\" hidden><div class=\"sk-item sk-dashed-wrapped\"><div class=\"sk-label-container\"><div class=\"sk-label sk-toggleable\"><input class=\"sk-toggleable__control sk-hidden--visually\" id=\"sk-estimator-id-2\" type=\"checkbox\" ><label for=\"sk-estimator-id-2\" class=\"sk-toggleable__label sk-toggleable__label-arrow\">CalibratedClassifierCV</label><div class=\"sk-toggleable__content\"><pre>CalibratedClassifierCV(cv=RepeatedStratifiedKFold(n_repeats=2, n_splits=10, random_state=123),\n",
       "                       estimator=RandomForestClassifier(max_depth=4,\n",
       "                                                        min_samples_split=5,\n",
       "                                                        n_estimators=12,\n",
       "                                                        random_state=123))</pre></div></div></div><div class=\"sk-parallel\"><div class=\"sk-parallel-item\"><div class=\"sk-item\"><div class=\"sk-label-container\"><div class=\"sk-label sk-toggleable\"><input class=\"sk-toggleable__control sk-hidden--visually\" id=\"sk-estimator-id-3\" type=\"checkbox\" ><label for=\"sk-estimator-id-3\" class=\"sk-toggleable__label sk-toggleable__label-arrow\">estimator: RandomForestClassifier</label><div class=\"sk-toggleable__content\"><pre>RandomForestClassifier(max_depth=4, min_samples_split=5, n_estimators=12,\n",
       "                       random_state=123)</pre></div></div></div><div class=\"sk-serial\"><div class=\"sk-item\"><div class=\"sk-estimator sk-toggleable\"><input class=\"sk-toggleable__control sk-hidden--visually\" id=\"sk-estimator-id-4\" type=\"checkbox\" ><label for=\"sk-estimator-id-4\" class=\"sk-toggleable__label sk-toggleable__label-arrow\">RandomForestClassifier</label><div class=\"sk-toggleable__content\"><pre>RandomForestClassifier(max_depth=4, min_samples_split=5, n_estimators=12,\n",
       "                       random_state=123)</pre></div></div></div></div></div></div></div></div></div></div>"
      ],
      "text/plain": [
       "CalibratedClassifierCV(cv=RepeatedStratifiedKFold(n_repeats=2, n_splits=10, random_state=123),\n",
       "                       estimator=RandomForestClassifier(max_depth=4,\n",
       "                                                        min_samples_split=5,\n",
       "                                                        n_estimators=12,\n",
       "                                                        random_state=123))"
      ]
     },
     "execution_count": 29,
     "metadata": {},
     "output_type": "execute_result"
    }
   ],
   "source": [
    "calibrated_model = CalibratedClassifierCV(model, cv=cv)\n",
    "calibrated_model.fit(X_train, y_train)"
   ]
  },
  {
   "cell_type": "markdown",
   "metadata": {},
   "source": [
    "Como está desbalanceado se considera un `threshold=0.3`. Se usa como métrica de bondad de ajuste el f1-score"
   ]
  },
  {
   "cell_type": "code",
   "execution_count": 30,
   "metadata": {
    "tags": []
   },
   "outputs": [
    {
     "name": "stdout",
     "output_type": "stream",
     "text": [
      "f1-score\n",
      "------------------------------\n",
      "Train: 0.6637197905155432\n",
      "Test: 0.6636977445769285\n"
     ]
    }
   ],
   "source": [
    "THRESHOLD = 0.3\n",
    "\n",
    "# F1-score (train and test)\n",
    "print(\"f1-score\")\n",
    "print(\"------------------------------\")\n",
    "print(f\"Train: {f1_score(y_train, np.where(calibrated_model.predict_proba(X_train)[: , 1] >= THRESHOLD, 1, 0))}\")\n",
    "print(f\"Test: {f1_score(y_test, np.where(calibrated_model.predict_proba(X_test)[: , 1] >= THRESHOLD, 1, 0))}\")"
   ]
  },
  {
   "cell_type": "markdown",
   "metadata": {
    "tags": []
   },
   "source": [
    "## Guardar los modelos y el proceso"
   ]
  },
  {
   "cell_type": "code",
   "execution_count": 31,
   "metadata": {},
   "outputs": [
    {
     "data": {
      "text/plain": [
       "['../model/rf_calib_model.joblib']"
      ]
     },
     "execution_count": 31,
     "metadata": {},
     "output_type": "execute_result"
    }
   ],
   "source": [
    "import joblib\n",
    "\n",
    "joblib.dump(norm, '../model/normalization.joblib')\n",
    "joblib.dump(model, '../model/rf_model.joblib')\n",
    "joblib.dump(calibrated_model, '../model/rf_calib_model.joblib')"
   ]
  }
 ],
 "metadata": {
  "accelerator": "GPU",
  "colab": {
   "provenance": []
  },
  "kernelspec": {
   "display_name": "Python 3 (ipykernel)",
   "language": "python",
   "name": "python3"
  },
  "language_info": {
   "codemirror_mode": {
    "name": "ipython",
    "version": 3
   },
   "file_extension": ".py",
   "mimetype": "text/x-python",
   "name": "python",
   "nbconvert_exporter": "python",
   "pygments_lexer": "ipython3",
   "version": "3.11.3"
  }
 },
 "nbformat": 4,
 "nbformat_minor": 4
}
